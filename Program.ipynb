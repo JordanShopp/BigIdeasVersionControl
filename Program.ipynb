{
 "cells": [
  {
   "cell_type": "code",
   "execution_count": 2,
   "metadata": {},
   "outputs": [
    {
     "name": "stdin",
     "output_type": "stream",
     "text": [
      "Enter your name:  jordan\n",
      "Enter an adjective:   cool\n"
     ]
    },
    {
     "name": "stdout",
     "output_type": "stream",
     "text": [
      "jordan is cool\n"
     ]
    }
   ],
   "source": [
    "name = input(\"Enter your name: \")\n",
    "adj= input(\"Enter an adjective:  \")\n",
    "print(name+ \" is \" + adj)"
   ]
  },
  {
   "cell_type": "code",
   "execution_count": null,
   "metadata": {},
   "outputs": [],
   "source": []
  }
 ],
 "metadata": {
  "kernelspec": {
   "display_name": "Python 3",
   "language": "python",
   "name": "python3"
  },
  "language_info": {
   "codemirror_mode": {
    "name": "ipython",
    "version": 3
   },
   "file_extension": ".py",
   "mimetype": "text/x-python",
   "name": "python",
   "nbconvert_exporter": "python",
   "pygments_lexer": "ipython3",
   "version": "3.8.3"
  }
 },
 "nbformat": 4,
 "nbformat_minor": 4
}
